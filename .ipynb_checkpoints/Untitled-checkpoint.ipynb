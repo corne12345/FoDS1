{
 "cells": [
  {
   "cell_type": "markdown",
   "metadata": {},
   "source": [
    "### Sentiment analysis"
   ]
  },
  {
   "cell_type": "code",
   "execution_count": 9,
   "metadata": {},
   "outputs": [],
   "source": [
    "import nltk\n",
    "import nltk.classify.util\n",
    "from nltk.classify import NaiveBayesClassifier\n",
    "from nltk.corpus import movie_reviews\n",
    "from tqdm import tqdm_notebook\n",
    "import pandas as pd\n",
    "import numpy as np\n",
    "import matplotlib.pyplot as plt\n",
    "from nltk.tokenize import WordPunctTokenizer\n",
    "import re\n",
    "from bs4 import BeautifulSoup\n",
    "import json\n",
    "import matplotlib.colors as colors\n"
   ]
  },
  {
   "cell_type": "code",
   "execution_count": 2,
   "metadata": {},
   "outputs": [
    {
     "name": "stderr",
     "output_type": "stream",
     "text": [
      "[nltk_data] Downloading collection 'popular'\n",
      "[nltk_data]    | \n",
      "[nltk_data]    | Downloading package cmudict to\n",
      "[nltk_data]    |     C:\\Users\\Corne\\AppData\\Roaming\\nltk_data...\n",
      "[nltk_data]    |   Package cmudict is already up-to-date!\n",
      "[nltk_data]    | Downloading package gazetteers to\n",
      "[nltk_data]    |     C:\\Users\\Corne\\AppData\\Roaming\\nltk_data...\n",
      "[nltk_data]    |   Package gazetteers is already up-to-date!\n",
      "[nltk_data]    | Downloading package genesis to\n",
      "[nltk_data]    |     C:\\Users\\Corne\\AppData\\Roaming\\nltk_data...\n",
      "[nltk_data]    |   Package genesis is already up-to-date!\n",
      "[nltk_data]    | Downloading package gutenberg to\n",
      "[nltk_data]    |     C:\\Users\\Corne\\AppData\\Roaming\\nltk_data...\n",
      "[nltk_data]    |   Package gutenberg is already up-to-date!\n",
      "[nltk_data]    | Downloading package inaugural to\n",
      "[nltk_data]    |     C:\\Users\\Corne\\AppData\\Roaming\\nltk_data...\n",
      "[nltk_data]    |   Package inaugural is already up-to-date!\n",
      "[nltk_data]    | Downloading package movie_reviews to\n",
      "[nltk_data]    |     C:\\Users\\Corne\\AppData\\Roaming\\nltk_data...\n",
      "[nltk_data]    |   Package movie_reviews is already up-to-date!\n",
      "[nltk_data]    | Downloading package names to\n",
      "[nltk_data]    |     C:\\Users\\Corne\\AppData\\Roaming\\nltk_data...\n",
      "[nltk_data]    |   Package names is already up-to-date!\n",
      "[nltk_data]    | Downloading package shakespeare to\n",
      "[nltk_data]    |     C:\\Users\\Corne\\AppData\\Roaming\\nltk_data...\n",
      "[nltk_data]    |   Package shakespeare is already up-to-date!\n",
      "[nltk_data]    | Downloading package stopwords to\n",
      "[nltk_data]    |     C:\\Users\\Corne\\AppData\\Roaming\\nltk_data...\n",
      "[nltk_data]    |   Package stopwords is already up-to-date!\n",
      "[nltk_data]    | Downloading package treebank to\n",
      "[nltk_data]    |     C:\\Users\\Corne\\AppData\\Roaming\\nltk_data...\n",
      "[nltk_data]    |   Package treebank is already up-to-date!\n",
      "[nltk_data]    | Downloading package twitter_samples to\n",
      "[nltk_data]    |     C:\\Users\\Corne\\AppData\\Roaming\\nltk_data...\n",
      "[nltk_data]    |   Package twitter_samples is already up-to-date!\n",
      "[nltk_data]    | Downloading package omw to\n",
      "[nltk_data]    |     C:\\Users\\Corne\\AppData\\Roaming\\nltk_data...\n",
      "[nltk_data]    |   Package omw is already up-to-date!\n",
      "[nltk_data]    | Downloading package wordnet to\n",
      "[nltk_data]    |     C:\\Users\\Corne\\AppData\\Roaming\\nltk_data...\n",
      "[nltk_data]    |   Package wordnet is already up-to-date!\n",
      "[nltk_data]    | Downloading package wordnet_ic to\n",
      "[nltk_data]    |     C:\\Users\\Corne\\AppData\\Roaming\\nltk_data...\n",
      "[nltk_data]    |   Package wordnet_ic is already up-to-date!\n",
      "[nltk_data]    | Downloading package words to\n",
      "[nltk_data]    |     C:\\Users\\Corne\\AppData\\Roaming\\nltk_data...\n",
      "[nltk_data]    |   Package words is already up-to-date!\n",
      "[nltk_data]    | Downloading package maxent_ne_chunker to\n",
      "[nltk_data]    |     C:\\Users\\Corne\\AppData\\Roaming\\nltk_data...\n",
      "[nltk_data]    |   Package maxent_ne_chunker is already up-to-date!\n",
      "[nltk_data]    | Downloading package punkt to\n",
      "[nltk_data]    |     C:\\Users\\Corne\\AppData\\Roaming\\nltk_data...\n",
      "[nltk_data]    |   Package punkt is already up-to-date!\n",
      "[nltk_data]    | Downloading package snowball_data to\n",
      "[nltk_data]    |     C:\\Users\\Corne\\AppData\\Roaming\\nltk_data...\n",
      "[nltk_data]    |   Package snowball_data is already up-to-date!\n",
      "[nltk_data]    | Downloading package averaged_perceptron_tagger to\n",
      "[nltk_data]    |     C:\\Users\\Corne\\AppData\\Roaming\\nltk_data...\n",
      "[nltk_data]    |   Package averaged_perceptron_tagger is already up-\n",
      "[nltk_data]    |       to-date!\n",
      "[nltk_data]    | \n",
      "[nltk_data]  Done downloading collection popular\n"
     ]
    },
    {
     "data": {
      "text/plain": [
       "True"
      ]
     },
     "execution_count": 2,
     "metadata": {},
     "output_type": "execute_result"
    }
   ],
   "source": [
    "nltk.download('popular')"
   ]
  },
  {
   "cell_type": "code",
   "execution_count": 3,
   "metadata": {},
   "outputs": [],
   "source": [
    "# Function that first rewrites certain patterns in a text to valid words and\n",
    "# then tokenizes all the words the text.\n",
    "def tweet_cleaner_updated(text):\n",
    "    tok = WordPunctTokenizer()\n",
    "\n",
    "    # Regexes used to rewrite certain patterns to valid words.\n",
    "    pat1 = r'@[A-Za-z0-9_]+|#[A-Za-z0-9_]+'\n",
    "    pat2 = r'https?://[^ ]+'\n",
    "    combined_pat = r'|'.join((pat1, pat2))\n",
    "    www_pat = r'www.[^ ]+'\n",
    "    negations_dic = {\"isn't\":\"is not\", \"aren't\":\"are not\", \"wasn't\":\"was not\", \"weren't\":\"were not\",\n",
    "                    \"haven't\":\"have not\",\"hasn't\":\"has not\",\"hadn't\":\"had not\",\"won't\":\"will not\",\n",
    "                    \"wouldn't\":\"would not\", \"don't\":\"do not\", \"doesn't\":\"does not\",\"didn't\":\"did not\",\n",
    "                    \"can't\":\"can not\",\"couldn't\":\"could not\",\"shouldn't\":\"should not\",\"mightn't\":\"might not\",\n",
    "                    \"mustn't\":\"must not\"}\n",
    "    neg_pattern = re.compile(r'\\b(' + '|'.join(negations_dic.keys()) + r')\\b')\n",
    "\n",
    "    # Tokenize words.\n",
    "    soup = BeautifulSoup(text, 'lxml')\n",
    "    souped = soup.get_text()\n",
    "    try:\n",
    "        bom_removed = souped.decode(\"utf-8-sig\").replace(u\"\\ufffd\", \"?\")\n",
    "    except:\n",
    "        bom_removed = souped\n",
    "    stripped = re.sub(combined_pat, '', bom_removed)\n",
    "    stripped = re.sub(www_pat, '', stripped)\n",
    "    lower_case = stripped.lower()\n",
    "    neg_handled = neg_pattern.sub(lambda x: negations_dic[x.group()], lower_case)\n",
    "    letters_only = re.sub(\"[^a-zA-Z]\", \" \", neg_handled)\n",
    "\n",
    "    # During the letters_only process two lines above, it has created unnecessay white spaces,\n",
    "    # I will tokenize and join together to remove unneccessary white spaces\n",
    "    words = [x for x  in tok.tokenize(letters_only) if len(x) > 1]\n",
    "    return (\" \".join(words)).strip().split(' ')\n",
    "\n",
    "def tweet_cleaner_updated_selection(text):\n",
    "    tok = WordPunctTokenizer()\n",
    "\n",
    "    # Regexes used to rewrite certain patterns to valid words.\n",
    "    pat2 = r'https?://[^ ]+'\n",
    "    www_pat = r'www.[^ ]+'\n",
    "    negations_dic = {\"isn't\":\"is not\", \"aren't\":\"are not\", \"wasn't\":\"was not\", \"weren't\":\"were not\",\n",
    "                    \"haven't\":\"have not\",\"hasn't\":\"has not\",\"hadn't\":\"had not\",\"won't\":\"will not\",\n",
    "                    \"wouldn't\":\"would not\", \"don't\":\"do not\", \"doesn't\":\"does not\",\"didn't\":\"did not\",\n",
    "                    \"can't\":\"can not\",\"couldn't\":\"could not\",\"shouldn't\":\"should not\",\"mightn't\":\"might not\",\n",
    "                    \"mustn't\":\"must not\"}\n",
    "    neg_pattern = re.compile(r'\\b(' + '|'.join(negations_dic.keys()) + r')\\b')\n",
    "\n",
    "    # Tokenize words.\n",
    "    soup = BeautifulSoup(text, 'lxml')\n",
    "    souped = soup.get_text()\n",
    "    try:\n",
    "        bom_removed = souped.decode(\"utf-8-sig\").replace(u\"\\ufffd\", \"?\")\n",
    "    except:\n",
    "        bom_removed = souped\n",
    "    stripped = re.sub(pat2, '', bom_removed)\n",
    "    stripped = re.sub(www_pat, '', stripped)\n",
    "    lower_case = stripped.lower()\n",
    "    neg_handled = neg_pattern.sub(lambda x: negations_dic[x.group()], lower_case)\n",
    "    letters_only = re.sub(\"[^a-zA-Z]\", \" \", neg_handled)\n",
    "\n",
    "    # During the letters_only process two lines above, it has created unnecessay white spaces,\n",
    "    # I will tokenize and join together to remove unneccessary white spaces\n",
    "    words = [x for x  in tok.tokenize(letters_only) if len(x) > 1]\n",
    "    return (\" \".join(words)).strip().split(' ')\n",
    "\n",
    "def stemmer(df):\n",
    "    ps = PorterStemmer()\n",
    "    sentenceList = df['text_clean'].apply(lambda x: ' '.join([ps.stem(word) for word in x.split() ]))\n",
    "    wordsList = sentenceList.apply(lambda x: x.split())\n",
    "    df['text_stemmed'] = wordsList\n",
    "\n",
    "def lemmer(df):\n",
    "    lmtzr = WordNetLemmatizer()\n",
    "    sentenceList = df['text_clean'].apply(lambda x: ' '.join([lmtzr.lemmatize(word,'v') for word in x.split() ]))\n",
    "    wordsList = sentenceList.apply(lambda x: x.split())\n",
    "    df['text_lemmed'] = wordsList\n",
    "\n",
    "def word_feats(words):\n",
    "    return dict([(word, True) for word in words])\n",
    "\n",
    "def word_feats_tweet(strng):\n",
    "    temp = tweet_cleaner_updated(strng)\n",
    "    return word_feats(temp)\n",
    "\n",
    "def extract_features(document):\n",
    "    document_words = set(document)\n",
    "    features = {}\n",
    "    for word in word_features:\n",
    "        features['contains(%s)' % word] = (word in document_words)\n",
    "    return features"
   ]
  },
  {
   "cell_type": "code",
   "execution_count": 4,
   "metadata": {},
   "outputs": [],
   "source": [
    "def classifier_training(file):\n",
    "    sentiment_training = pd.read_csv(file)[['sentiment', 'text']]\n",
    "    sent_pos = sentiment_training[sentiment_training['sentiment'] == 4]['text']\n",
    "    sent_neg = sentiment_training[sentiment_training['sentiment'] == 0]['text']\n",
    "    sent_pos_clean = list(sent_pos.apply(tweet_cleaner_updated))\n",
    "    sent_neg_clean = list(sent_neg.apply(tweet_cleaner_updated))\n",
    "    negfeats = [(word_feats(sent_neg_clean[i]), 'neg') for i in range(len(sent_neg_clean))]\n",
    "    posfeats = [(word_feats(sent_pos_clean[i]), 'pos') for i in range(len(sent_pos_clean))]\n",
    "    negcutoff = int(len(negfeats)*0.75)\n",
    "    poscutoff = int(len(posfeats)*0.75)\n",
    "    \n",
    "    # Construct the training dataset containing 50% positive reviews and 50% negative reviews\n",
    "    trainfeats = negfeats[:negcutoff] + posfeats[:poscutoff]\n",
    "\n",
    "    # Construct the negative dataset containing 50% positive reviews and 50% negative reviews\n",
    "    testfeats = negfeats[negcutoff:] + posfeats[poscutoff:]\n",
    "\n",
    "    print ('train on %d instances, test on %d instances' % (len(trainfeats), len(testfeats)))\n",
    "\n",
    "    # Train a NaiveBayesClassifier\n",
    "    classifier = NaiveBayesClassifier.train(trainfeats)\n",
    "\n",
    "    # Test the trained classifier and display the most informative features.\n",
    "    print ('accuracy:', nltk.classify.util.accuracy(classifier, testfeats))\n",
    "    classifier.show_most_informative_features()\n",
    "    \n",
    "    return classifier"
   ]
  },
  {
   "cell_type": "code",
   "execution_count": 8,
   "metadata": {},
   "outputs": [
    {
     "name": "stdout",
     "output_type": "stream",
     "text": [
      "train on 8655 instances, test on 2886 instances\n",
      "accuracy: 0.8801108801108801\n",
      "Most Informative Features\n",
      "                    rock = True              pos : neg    =     39.6 : 1.0\n",
      "                passbook = True              pos : neg    =     34.9 : 1.0\n",
      "                favorite = True              pos : neg    =     34.9 : 1.0\n",
      "                 worries = True              pos : neg    =     32.4 : 1.0\n",
      "               beautiful = True              pos : neg    =     27.2 : 1.0\n",
      "                   raise = True              pos : neg    =     24.6 : 1.0\n",
      "                  prompt = True              pos : neg    =     24.6 : 1.0\n",
      "                 awesome = True              pos : neg    =     21.4 : 1.0\n",
      "                     hrs = True              neg : pos    =     21.0 : 1.0\n",
      "                    hold = True              neg : pos    =     20.9 : 1.0\n"
     ]
    }
   ],
   "source": [
    "classifier = classifier_training('sentiment.csv')"
   ]
  },
  {
   "cell_type": "markdown",
   "metadata": {},
   "source": [
    "The model is able to train a model based on the airline data with an accuracy of nearly 0.9. This is promising, but doesn't provide any garanties for other types of data"
   ]
  },
  {
   "cell_type": "markdown",
   "metadata": {},
   "source": [
    "### Model on US Election data\n",
    "The next step is to use the newly trained classifier on the actual dataset. As a first step, the whole dataset is split into tweets mentioning Hillary, Trump or both."
   ]
  },
  {
   "cell_type": "code",
   "execution_count": 10,
   "metadata": {},
   "outputs": [],
   "source": [
    "# Function returns dict with tweets from file: \"fileName\".\n",
    "def loadTweets(fileName = 'geotagged_tweets_20160812-0912.jsons', length = 9999999):\n",
    "    counter = 0\n",
    "    tweets_dict = {}\n",
    "    with open('geotagged_tweets_20160812-0912.jsons') as fd:\n",
    "        for line in tqdm_notebook(fd):\n",
    "            j_content = json.loads(line)\n",
    "            text = j_content['text']\n",
    "            try:\n",
    "                country = j_content['place']['country_code']\n",
    "                location = j_content['place']['full_name']\n",
    "            except:\n",
    "                pass\n",
    "            timestamp = j_content['created_at']\n",
    "            tweets_dict[counter] = [timestamp, location, country, text]\n",
    "            counter += 1\n",
    "            if counter == length: # to keep it  small\n",
    "                break\n",
    "    return pd.DataFrame.from_dict(tweets_dict, orient='index').rename(columns={0:'timestamp', 1:'location', 2:'country', 3: 'text'})\n",
    "\n",
    "def tweets_to_candidates(df):\n",
    "    \"\"\"\n",
    "    This function takes a dataframe of tweets as input.\n",
    "    It select entries that react to either Trump, Hillary or both.\n",
    "    It then places the tweet text of the  entries in the corresponding dictionary.\n",
    "    This is the tweet text as a list entry with the tweeters state as key.\n",
    "    The output is a dict with 3 dicts (both, trump, hillary) with all states as keys and the tweets from that state as valeus.\n",
    "\n",
    "    \"\"\"\n",
    "    both_df = pd.DataFrame(columns=df.columns)\n",
    "    trump_df = pd.DataFrame(columns=df.columns)\n",
    "    hillary_df = pd.DataFrame(columns=df.columns)\n",
    "    df['text'] = df['text'].apply(tweet_cleaner_updated_selection)\n",
    "    for i in tqdm_notebook(range(df.shape[0])):\n",
    "        if df.iloc[i]['country'] == 'US':\n",
    "            if any(s in df['text'].iloc[i] for s in ['realdonaldtrump', 'trump', 'donald', 'donaldtrump'])\\\n",
    "            and any(s in df['text'].iloc[i] for s in['hillaryclinton','hillary','clinton']):\n",
    "                both_df = both_df.append(df.iloc[i], ignore_index=True)\n",
    "            elif any(s in df['text'].iloc[i] for s in ['realdonaldtrump', 'trump', 'donald', 'donaldtrump']):\n",
    "                trump_df = trump_df.append(df.iloc[i], ignore_index=True)\n",
    "            elif any(s in df['text'].iloc[i] for s in['hillaryclinton','hillary','clinton']):\n",
    "                hillary_df = hillary_df.append(df.iloc[i], ignore_index=True)\n",
    "            else:\n",
    "#                 print(df.iloc[i]['text'])\n",
    "                pass\n",
    "    return both_df, trump_df, hillary_df\n",
    "\n",
    "def score_per_selection(df):\n",
    "    \"\"\"\n",
    "    Function that gives a score of the sentiment of a selection of tweets\n",
    "    Positive scores are indicators of postive sentiment, and negative scores for negative sentiment.\n",
    "    The returned score is the average score, so total sentiment/#tweets\n",
    "    \"\"\"\n",
    "    tweets_lst = list(df['text'])\n",
    "    test_features = [word_feats(tweet) for tweet in tweets_lst]\n",
    "    score = 0\n",
    "    for tweet in test_features:\n",
    "        if classifier.classify(tweet) =='pos':\n",
    "            score += 1 # since most neutral tweets are considered negative\n",
    "        else:\n",
    "            score -= 1\n",
    "    return score/df.shape[0]\n",
    "\n",
    "def location_to_state_abb(location):\n",
    "    abbreviation = location[-2:]\n",
    "    if abbreviation == 'SA':\n",
    "        try:\n",
    "            abbreviation = transform_dict[location]\n",
    "        except:\n",
    "            pass\n",
    "    return abbreviation\n",
    "            \n",
    "transform_dict = {'New York, USA': 'NY', 'New Jersey, USA': 'NJ', 'Pennsylvania, USA': 'PA', 'Georgia, USA': 'GA','Iowa, USA': 'IA', 'Virginia, USA': 'VA', 'Missouri, USA':'MO', 'Alabama, USA': 'AL','North Carolina, USA': 'NC', 'Illinois, USA': 'IL', 'Texas, USA': 'TX', 'Florida, USA': 'FL','Maryland, USA': 'MD', 'Kentucky, USA': 'KY', 'Arkansas, USA': 'AR', 'Alaska, USA': 'AK', 'Kansas, USA': 'KS', 'South Carolina, USA': 'SC', 'Louisiana, USA': 'LA', 'Maine, USA': 'ME', 'Michigan, USA': 'MI', 'Wisconsin, USA': 'WI', 'Delaware, USA': 'DE', 'Arizona, USA': 'AZ', 'Mississippi, USA': 'MS', 'Indiana, USA': 'IN', 'Ohio, USA': 'OH'}\n",
    "\n",
    "def candidates_to_states(df, transformation_dict = transform_dict):\n",
    "    \"\"\"\n",
    "    transforms a dataframe to a dictionary of dataframes with the state abbrevation being the key and a dataframe\n",
    "    of tweets from that state as value.\n",
    "    \"\"\"\n",
    "    df['state_abb'] = df['location'].apply(location_to_state_abb)\n",
    "    states_dict = {}\n",
    "    for state in df['state_abb'].unique():\n",
    "        states_dict[state] = df[df['state_abb'] == state]\n",
    "    return states_dict\n",
    "\n",
    "def score_per_state(dict_with_dfs):\n",
    "    score_dict = {}\n",
    "    for key, values in dict_with_dfs.items():\n",
    "        score_dict[key] = score_per_selection(dict_with_dfs[key])\n",
    "    return score_dict"
   ]
  },
  {
   "cell_type": "code",
   "execution_count": 11,
   "metadata": {
    "scrolled": true
   },
   "outputs": [
    {
     "data": {
      "application/vnd.jupyter.widget-view+json": {
       "model_id": "3f001280e5784b70a854f534ebaf9526",
       "version_major": 2,
       "version_minor": 0
      },
      "text/plain": [
       "HBox(children=(IntProgress(value=1, bar_style='info', max=1), HTML(value='')))"
      ]
     },
     "metadata": {},
     "output_type": "display_data"
    },
    {
     "name": "stderr",
     "output_type": "stream",
     "text": [
      "C:\\Users\\Corne\\Anaconda3\\lib\\site-packages\\bs4\\__init__.py:335: UserWarning: \"https://t.co/WSqOvs7udW\" looks like a URL. Beautiful Soup is not an HTTP client. You should probably use an HTTP client like requests to get the document behind the URL, and feed that document to Beautiful Soup.\n",
      "  ' that document to Beautiful Soup.' % decoded_markup\n",
      "C:\\Users\\Corne\\Anaconda3\\lib\\site-packages\\bs4\\__init__.py:335: UserWarning: \"https://t.co/mihWNnCpfe\n",
      "\n",
      "@CNN\" looks like a URL. Beautiful Soup is not an HTTP client. You should probably use an HTTP client like requests to get the document behind the URL, and feed that document to Beautiful Soup.\n",
      "  ' that document to Beautiful Soup.' % decoded_markup\n",
      "C:\\Users\\Corne\\Anaconda3\\lib\\site-packages\\bs4\\__init__.py:335: UserWarning: \"https://t.co/abmHfDq5ut\n",
      "\n",
      "@realDonaldTrump\" looks like a URL. Beautiful Soup is not an HTTP client. You should probably use an HTTP client like requests to get the document behind the URL, and feed that document to Beautiful Soup.\n",
      "  ' that document to Beautiful Soup.' % decoded_markup\n",
      "C:\\Users\\Corne\\Anaconda3\\lib\\site-packages\\bs4\\__init__.py:335: UserWarning: \"https://t.co/ZXAugPjrLj\" looks like a URL. Beautiful Soup is not an HTTP client. You should probably use an HTTP client like requests to get the document behind the URL, and feed that document to Beautiful Soup.\n",
      "  ' that document to Beautiful Soup.' % decoded_markup\n",
      "C:\\Users\\Corne\\Anaconda3\\lib\\site-packages\\bs4\\__init__.py:335: UserWarning: \"https://t.co/vwngsEomAA\n",
      "@realDonaldTrump\" looks like a URL. Beautiful Soup is not an HTTP client. You should probably use an HTTP client like requests to get the document behind the URL, and feed that document to Beautiful Soup.\n",
      "  ' that document to Beautiful Soup.' % decoded_markup\n",
      "C:\\Users\\Corne\\Anaconda3\\lib\\site-packages\\bs4\\__init__.py:335: UserWarning: \"https://t.co/vwngsEomAA\n",
      "#Trump\" looks like a URL. Beautiful Soup is not an HTTP client. You should probably use an HTTP client like requests to get the document behind the URL, and feed that document to Beautiful Soup.\n",
      "  ' that document to Beautiful Soup.' % decoded_markup\n",
      "C:\\Users\\Corne\\Anaconda3\\lib\\site-packages\\bs4\\__init__.py:335: UserWarning: \"https://t.co/f3kdAWI6SA\" looks like a URL. Beautiful Soup is not an HTTP client. You should probably use an HTTP client like requests to get the document behind the URL, and feed that document to Beautiful Soup.\n",
      "  ' that document to Beautiful Soup.' % decoded_markup\n",
      "C:\\Users\\Corne\\Anaconda3\\lib\\site-packages\\bs4\\__init__.py:335: UserWarning: \"https://t.co/6uwkVsKMgF\n",
      "\n",
      "@realDonaldTrump\" looks like a URL. Beautiful Soup is not an HTTP client. You should probably use an HTTP client like requests to get the document behind the URL, and feed that document to Beautiful Soup.\n",
      "  ' that document to Beautiful Soup.' % decoded_markup\n",
      "C:\\Users\\Corne\\Anaconda3\\lib\\site-packages\\bs4\\__init__.py:335: UserWarning: \"https://t.co/9kkKWmEndh\n",
      "@RandPaul\" looks like a URL. Beautiful Soup is not an HTTP client. You should probably use an HTTP client like requests to get the document behind the URL, and feed that document to Beautiful Soup.\n",
      "  ' that document to Beautiful Soup.' % decoded_markup\n",
      "C:\\Users\\Corne\\Anaconda3\\lib\\site-packages\\bs4\\__init__.py:335: UserWarning: \"https://t.co/chkoKJwzHa\n",
      "\n",
      "@RandPaul\" looks like a URL. Beautiful Soup is not an HTTP client. You should probably use an HTTP client like requests to get the document behind the URL, and feed that document to Beautiful Soup.\n",
      "  ' that document to Beautiful Soup.' % decoded_markup\n",
      "C:\\Users\\Corne\\Anaconda3\\lib\\site-packages\\bs4\\__init__.py:335: UserWarning: \"https://t.co/F7sdrren7P\" looks like a URL. Beautiful Soup is not an HTTP client. You should probably use an HTTP client like requests to get the document behind the URL, and feed that document to Beautiful Soup.\n",
      "  ' that document to Beautiful Soup.' % decoded_markup\n",
      "C:\\Users\\Corne\\Anaconda3\\lib\\site-packages\\bs4\\__init__.py:335: UserWarning: \"https://t.co/UcVlwtzadq\" looks like a URL. Beautiful Soup is not an HTTP client. You should probably use an HTTP client like requests to get the document behind the URL, and feed that document to Beautiful Soup.\n",
      "  ' that document to Beautiful Soup.' % decoded_markup\n",
      "C:\\Users\\Corne\\Anaconda3\\lib\\site-packages\\bs4\\__init__.py:335: UserWarning: \"https://t.co/AJgslxltKB\n",
      "#ClintonFoundation\n",
      "#HillarysHealth\n",
      "#DNCLeak\n",
      "#DNCLeaks\n",
      "#TrumpPence16\" looks like a URL. Beautiful Soup is not an HTTP client. You should probably use an HTTP client like requests to get the document behind the URL, and feed that document to Beautiful Soup.\n",
      "  ' that document to Beautiful Soup.' % decoded_markup\n"
     ]
    },
    {
     "data": {
      "application/vnd.jupyter.widget-view+json": {
       "model_id": "407d957d201d47c085814fc190530527",
       "version_major": 2,
       "version_minor": 0
      },
      "text/plain": [
       "HBox(children=(IntProgress(value=0, max=50000), HTML(value='')))"
      ]
     },
     "metadata": {},
     "output_type": "display_data"
    }
   ],
   "source": [
    "df = loadTweets(length=50000)\n",
    "both, trump, hillary = tweets_to_candidates(df)\n",
    "# print(both.shape, trump.shape, hillary.shape)"
   ]
  },
  {
   "cell_type": "markdown",
   "metadata": {},
   "source": [
    "From the data set, it is clearly seen that all data can be classified as being on both candidates or just on Trump. The Hillary df has no entries en the else clause does not print anything."
   ]
  },
  {
   "cell_type": "code",
   "execution_count": 12,
   "metadata": {},
   "outputs": [
    {
     "name": "stdout",
     "output_type": "stream",
     "text": [
      "-0.9000857632933105\n",
      "-0.8672477630361\n",
      "-0.8724890829694323\n"
     ]
    }
   ],
   "source": [
    "print(score_per_selection(both))\n",
    "print(score_per_selection(trump))\n",
    "print(score_per_selection(hillary))"
   ]
  },
  {
   "cell_type": "code",
   "execution_count": 13,
   "metadata": {
    "scrolled": true
   },
   "outputs": [],
   "source": [
    "trump_per_state = score_per_state(candidates_to_states(trump))\n",
    "hillary_per_state = score_per_state(candidates_to_states(hillary))\n",
    "both_per_state = score_per_state(candidates_to_states(both))\n",
    "\n",
    "# #################### TEST ##################\n",
    "# trump_test = candidates_to_states(trump)['NY'].head(50)\n",
    "# print(score_per_selection(trump_test))\n",
    "# print('###########')\n",
    "# hillary_test = candidates_to_states(hillary)['NY'].head(50)\n",
    "# print(score_per_selection(hillary_test))"
   ]
  },
  {
   "cell_type": "code",
   "execution_count": 53,
   "metadata": {},
   "outputs": [],
   "source": [
    "import os\n",
    "from shapely.geometry import Polygon, MultiPolygon\n",
    "from descartes import PolygonPatch\n",
    "from matplotlib import cm\n",
    "import math\n",
    "\n",
    "def intensity_creator(dct):\n",
    "    import operator\n",
    "    temp = max(dct.items(), key=operator.itemgetter(1))[0]\n",
    "    return dct[temp]\n",
    "        \n",
    "\n",
    "def create_map(dct, colormap='bwr', diff=False):\n",
    "    S_DIR = 'states_21basic/' \n",
    "    BLUE = '#5599ff'\n",
    "    cmap = plt.get_cmap(colormap) # Choose a colormap to be used to color\n",
    "    MINIMUM = 1\n",
    "    MAXIMUM = 10\n",
    "\n",
    "    sm = plt.cm.ScalarMappable(cmap=cmap, norm=colors.LogNorm(vmin=MINIMUM, vmax=MAXIMUM))\n",
    "    sm._A=[]\n",
    "\n",
    "    with open(os.path.join(S_DIR, 'states.json')) as rf:    \n",
    "        data = json.load(rf)\n",
    "\n",
    "    fig = plt.figure() \n",
    "    ax = fig.gca()\n",
    "    for feature in data['features']:\n",
    "        geometry = feature['geometry']\n",
    "\n",
    "        # Convert population to a proportion of the maximum value\n",
    "        name = feature['properties']['STATE_ABBR']\n",
    "        if diff:\n",
    "            try:\n",
    "                if dct[name] > 0:\n",
    "                    intensity = 0.9999\n",
    "                else:\n",
    "                    intensity = 0\n",
    "            except:\n",
    "                intensity = 9999\n",
    "        elif not diff:\n",
    "            try:\n",
    "                intensity = math.sqrt((dct[name] + 1)/2)\n",
    "            \n",
    "            except:\n",
    "                intensity = 9999\n",
    "\n",
    "        if geometry['type'] == 'Polygon':\n",
    "            poly = geometry\n",
    "            ppatch = PolygonPatch(poly, fc=cmap(intensity), ec='black',  alpha=0.5, zorder=2)\n",
    "            ax.add_patch(ppatch)\n",
    "\n",
    "        elif geometry['type'] == 'MultiPolygon':\n",
    "            for polygon in geometry['coordinates'][0]:\n",
    "                poly = Polygon(polygon)\n",
    "                ppatch = PolygonPatch(poly, fc=cmap(intensity), ec='black', alpha=0.5, zorder=2)\n",
    "                ax.add_patch(ppatch)\n",
    "        else:\n",
    "            print('Don\\'t know how to draw :', geometry['type'])\n",
    "\n",
    "    ax.axis('scaled')\n",
    "    plt.axis('off')\n",
    "    plt.title('Average sentiment per state')\n",
    "    fig.colorbar(sm, shrink=0.5)\n",
    "    plt.show()"
   ]
  },
  {
   "cell_type": "code",
   "execution_count": 54,
   "metadata": {},
   "outputs": [
    {
     "data": {
      "image/png": "[encoded data removed]",
      "text/plain": [
       "<Figure size 432x288 with 2 Axes>"
      ]
     },
     "metadata": {
      "needs_background": "light"
     },
     "output_type": "display_data"
    },
    {
     "data": {
      "image/png": "[encoded data removed]",
      "text/plain": [
       "<Figure size 432x288 with 2 Axes>"
      ]
     },
     "metadata": {
      "needs_background": "light"
     },
     "output_type": "display_data"
    },
    {
     "data": {
      "image/png": "[encoded data removed]",
      "text/plain": [
       "<Figure size 432x288 with 2 Axes>"
      ]
     },
     "metadata": {
      "needs_background": "light"
     },
     "output_type": "display_data"
    }
   ],
   "source": [
    "create_map(trump_per_state)\n",
    "create_map(hillary_per_state)\n",
    "create_map(both_per_state)"
   ]
  },
  {
   "cell_type": "code",
   "execution_count": 493,
   "metadata": {},
   "outputs": [
    {
     "data": {
      "image/png": "[encoded data removed]",
      "text/plain": [
       "<Figure size 432x288 with 1 Axes>"
      ]
     },
     "metadata": {
      "needs_background": "light"
     },
     "output_type": "display_data"
    }
   ],
   "source": [
    "d3 = {key: trump_per_state[key] - hillary_per_state.get(key, 0) for key in trump_per_state.keys()}\n",
    "create_map(d3, diff=True)"
   ]
  },
  {
   "cell_type": "code",
   "execution_count": 6,
   "metadata": {},
   "outputs": [
    {
     "data": {
      "text/html": [
       "<div>\n",
       "<style scoped>\n",
       "    .dataframe tbody tr th:only-of-type {\n",
       "        vertical-align: middle;\n",
       "    }\n",
       "\n",
       "    .dataframe tbody tr th {\n",
       "        vertical-align: top;\n",
       "    }\n",
       "\n",
       "    .dataframe thead th {\n",
       "        text-align: right;\n",
       "    }\n",
       "</style>\n",
       "<table border=\"1\" class=\"dataframe\">\n",
       "  <thead>\n",
       "    <tr style=\"text-align: right;\">\n",
       "      <th></th>\n",
       "      <th>sentiment</th>\n",
       "      <th>text</th>\n",
       "    </tr>\n",
       "  </thead>\n",
       "  <tbody>\n",
       "    <tr>\n",
       "      <th>0</th>\n",
       "      <td>0</td>\n",
       "      <td>@switchfoot http://twitpic.com/2y1zl - Awww, t...</td>\n",
       "    </tr>\n",
       "    <tr>\n",
       "      <th>1</th>\n",
       "      <td>0</td>\n",
       "      <td>is upset that he can't update his Facebook by ...</td>\n",
       "    </tr>\n",
       "    <tr>\n",
       "      <th>2</th>\n",
       "      <td>0</td>\n",
       "      <td>@Kenichan I dived many times for the ball. Man...</td>\n",
       "    </tr>\n",
       "    <tr>\n",
       "      <th>3</th>\n",
       "      <td>0</td>\n",
       "      <td>my whole body feels itchy and like its on fire</td>\n",
       "    </tr>\n",
       "    <tr>\n",
       "      <th>4</th>\n",
       "      <td>0</td>\n",
       "      <td>@nationwideclass no, it's not behaving at all....</td>\n",
       "    </tr>\n",
       "  </tbody>\n",
       "</table>\n",
       "</div>"
      ],
      "text/plain": [
       "   sentiment                                               text\n",
       "0          0  @switchfoot http://twitpic.com/2y1zl - Awww, t...\n",
       "1          0  is upset that he can't update his Facebook by ...\n",
       "2          0  @Kenichan I dived many times for the ball. Man...\n",
       "3          0    my whole body feels itchy and like its on fire \n",
       "4          0  @nationwideclass no, it's not behaving at all...."
      ]
     },
     "execution_count": 6,
     "metadata": {},
     "output_type": "execute_result"
    }
   ],
   "source": [
    "df_test_data=pd.read_csv('training.1600000.processed.noemoticon.csv', encoding=\"ISO-8859-1\", header=None)[[0,5]].rename(columns={0:'sentiment', 5:'text'})\n",
    "df_test_data.to_csv(path_or_buf='sentiment_2.csv', index=False)\n",
    "df_test_data.head()"
   ]
  },
  {
   "cell_type": "code",
   "execution_count": null,
   "metadata": {},
   "outputs": [],
   "source": [
    "def total(training_set='sentiment.csv', length=50000):\n",
    "    \n",
    "    classifier = classifier_training(training_set)\n",
    "    \n",
    "    df = loadTweets(length=length)\n",
    "    \n",
    "    both, trump, hillary = tweets_to_candidates(df)\n",
    "    \n",
    "    print(\"Both Score: \", score_per_selection(both))\n",
    "    print(\"Trump Score: \", score_per_selection(trump))\n",
    "    print(\"Hillary Score: \", score_per_selection(hillary))\n",
    "    \n",
    "    trump_per_state = score_per_state(candidates_to_states(trump))\n",
    "    hillary_per_state = score_per_state(candidates_to_states(hillary))\n",
    "    both_per_state = score_per_state(candidates_to_states(both))\n",
    "    \n",
    "    create_map(trump_per_state)\n",
    "    create_map(hillary_per_state)\n",
    "    create_map(both_per_state)"
   ]
  }
 ],
 "metadata": {
  "kernelspec": {
   "display_name": "Python 3",
   "language": "python",
   "name": "python3"
  },
  "language_info": {
   "codemirror_mode": {
    "name": "ipython",
    "version": 3
   },
   "file_extension": ".py",
   "mimetype": "text/x-python",
   "name": "python",
   "nbconvert_exporter": "python",
   "pygments_lexer": "ipython3",
   "version": "3.7.3"
  }
 },
 "nbformat": 4,
 "nbformat_minor": 2
}
