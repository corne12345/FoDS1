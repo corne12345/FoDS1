{
 "cells": [
  {
   "cell_type": "markdown",
   "metadata": {},
   "source": [
    "### Sentiment analysis"
   ]
  },
  {
   "cell_type": "code",
   "execution_count": 89,
   "metadata": {},
   "outputs": [],
   "source": [
    "import nltk\n",
    "import nltk.classify.util\n",
    "from nltk.classify import NaiveBayesClassifier\n",
    "from nltk.corpus import movie_reviews\n",
    "from tqdm import tqdm_notebook\n",
    "import pandas as pd\n",
    "import numpy as np\n",
    "import matplotlib.pyplot as plt\n",
    "from nltk.tokenize import WordPunctTokenizer\n",
    "import re\n",
    "from bs4 import BeautifulSoup\n",
    "import json"
   ]
  },
  {
   "cell_type": "code",
   "execution_count": null,
   "metadata": {},
   "outputs": [],
   "source": [
    "nltk.download('popular')"
   ]
  },
  {
   "cell_type": "code",
   "execution_count": 159,
   "metadata": {},
   "outputs": [],
   "source": [
    "# Function that first rewrites certain patterns in a text to valid words and\n",
    "# then tokenizes all the words the text.\n",
    "def tweet_cleaner_updated(text):\n",
    "    tok = WordPunctTokenizer()\n",
    "\n",
    "    # Regexes used to rewrite certain patterns to valid words.\n",
    "    pat1 = r'@[A-Za-z0-9_]+|#[A-Za-z0-9_]+'\n",
    "    pat2 = r'https?://[^ ]+'\n",
    "    combined_pat = r'|'.join((pat1, pat2))\n",
    "    www_pat = r'www.[^ ]+'\n",
    "    negations_dic = {\"isn't\":\"is not\", \"aren't\":\"are not\", \"wasn't\":\"was not\", \"weren't\":\"were not\",\n",
    "                    \"haven't\":\"have not\",\"hasn't\":\"has not\",\"hadn't\":\"had not\",\"won't\":\"will not\",\n",
    "                    \"wouldn't\":\"would not\", \"don't\":\"do not\", \"doesn't\":\"does not\",\"didn't\":\"did not\",\n",
    "                    \"can't\":\"can not\",\"couldn't\":\"could not\",\"shouldn't\":\"should not\",\"mightn't\":\"might not\",\n",
    "                    \"mustn't\":\"must not\"}\n",
    "    neg_pattern = re.compile(r'\\b(' + '|'.join(negations_dic.keys()) + r')\\b')\n",
    "\n",
    "    # Tokenize words.\n",
    "    soup = BeautifulSoup(text, 'lxml')\n",
    "    souped = soup.get_text()\n",
    "    try:\n",
    "        bom_removed = souped.decode(\"utf-8-sig\").replace(u\"\\ufffd\", \"?\")\n",
    "    except:\n",
    "        bom_removed = souped\n",
    "    stripped = re.sub(combined_pat, '', bom_removed)\n",
    "    stripped = re.sub(www_pat, '', stripped)\n",
    "    lower_case = stripped.lower()\n",
    "    neg_handled = neg_pattern.sub(lambda x: negations_dic[x.group()], lower_case)\n",
    "    letters_only = re.sub(\"[^a-zA-Z]\", \" \", neg_handled)\n",
    "\n",
    "    # During the letters_only process two lines above, it has created unnecessay white spaces,\n",
    "    # I will tokenize and join together to remove unneccessary white spaces\n",
    "    words = [x for x  in tok.tokenize(letters_only) if len(x) > 1]\n",
    "    return (\" \".join(words)).strip().split(' ')\n",
    "\n",
    "def tweet_cleaner_updated_selection(text):\n",
    "    tok = WordPunctTokenizer()\n",
    "\n",
    "    # Regexes used to rewrite certain patterns to valid words.\n",
    "    pat2 = r'https?://[^ ]+'\n",
    "    www_pat = r'www.[^ ]+'\n",
    "    negations_dic = {\"isn't\":\"is not\", \"aren't\":\"are not\", \"wasn't\":\"was not\", \"weren't\":\"were not\",\n",
    "                    \"haven't\":\"have not\",\"hasn't\":\"has not\",\"hadn't\":\"had not\",\"won't\":\"will not\",\n",
    "                    \"wouldn't\":\"would not\", \"don't\":\"do not\", \"doesn't\":\"does not\",\"didn't\":\"did not\",\n",
    "                    \"can't\":\"can not\",\"couldn't\":\"could not\",\"shouldn't\":\"should not\",\"mightn't\":\"might not\",\n",
    "                    \"mustn't\":\"must not\"}\n",
    "    neg_pattern = re.compile(r'\\b(' + '|'.join(negations_dic.keys()) + r')\\b')\n",
    "\n",
    "    # Tokenize words.\n",
    "    soup = BeautifulSoup(text, 'lxml')\n",
    "    souped = soup.get_text()\n",
    "    try:\n",
    "        bom_removed = souped.decode(\"utf-8-sig\").replace(u\"\\ufffd\", \"?\")\n",
    "    except:\n",
    "        bom_removed = souped\n",
    "    stripped = re.sub(pat2, '', bom_removed)\n",
    "    stripped = re.sub(www_pat, '', stripped)\n",
    "    lower_case = stripped.lower()\n",
    "    neg_handled = neg_pattern.sub(lambda x: negations_dic[x.group()], lower_case)\n",
    "    letters_only = re.sub(\"[^a-zA-Z]\", \" \", neg_handled)\n",
    "\n",
    "    # During the letters_only process two lines above, it has created unnecessay white spaces,\n",
    "    # I will tokenize and join together to remove unneccessary white spaces\n",
    "    words = [x for x  in tok.tokenize(letters_only) if len(x) > 1]\n",
    "    return (\" \".join(words)).strip().split(' ')\n",
    "\n",
    "def stemmer(df):\n",
    "    ps = PorterStemmer()\n",
    "    sentenceList = df['text_clean'].apply(lambda x: ' '.join([ps.stem(word) for word in x.split() ]))\n",
    "    wordsList = sentenceList.apply(lambda x: x.split())\n",
    "    df['text_stemmed'] = wordsList\n",
    "\n",
    "def lemmer(df):\n",
    "    lmtzr = WordNetLemmatizer()\n",
    "    sentenceList = df['text_clean'].apply(lambda x: ' '.join([lmtzr.lemmatize(word,'v') for word in x.split() ]))\n",
    "    wordsList = sentenceList.apply(lambda x: x.split())\n",
    "    df['text_lemmed'] = wordsList\n",
    "\n",
    "def word_feats(words):\n",
    "    return dict([(word, True) for word in words])\n",
    "\n",
    "def word_feats_tweet(strng):\n",
    "    temp = tweet_cleaner_updated(strng)\n",
    "    return word_feats(temp)\n",
    "\n",
    "def extract_features(document):\n",
    "    document_words = set(document)\n",
    "    features = {}\n",
    "    for word in word_features:\n",
    "        features['contains(%s)' % word] = (word in document_words)\n",
    "    return features"
   ]
  },
  {
   "cell_type": "code",
   "execution_count": 60,
   "metadata": {},
   "outputs": [],
   "source": [
    "def classifier_training(file):\n",
    "    sentiment_training = pd.read_csv(file)[['sentiment', 'text']]\n",
    "    sent_pos = sentiment_training[sentiment_training['sentiment'] == 4]['text']\n",
    "    sent_neg = sentiment_training[sentiment_training['sentiment'] == 0]['text']\n",
    "    sent_pos_clean = list(sent_pos.apply(tweet_cleaner_updated))\n",
    "    sent_neg_clean = list(sent_neg.apply(tweet_cleaner_updated))\n",
    "    negfeats = [(word_feats(sent_neg_clean[i]), 'neg') for i in range(len(sent_neg_clean))]\n",
    "    posfeats = [(word_feats(sent_pos_clean[i]), 'pos') for i in range(len(sent_pos_clean))]\n",
    "    negcutoff = int(len(negfeats)*0.75)\n",
    "    poscutoff = int(len(posfeats)*0.75)\n",
    "    \n",
    "    # Construct the training dataset containing 50% positive reviews and 50% negative reviews\n",
    "    trainfeats = negfeats[:negcutoff] + posfeats[:poscutoff]\n",
    "\n",
    "    # Construct the negative dataset containing 50% positive reviews and 50% negative reviews\n",
    "    testfeats = negfeats[negcutoff:] + posfeats[poscutoff:]\n",
    "\n",
    "    print ('train on %d instances, test on %d instances' % (len(trainfeats), len(testfeats)))\n",
    "\n",
    "    # Train a NaiveBayesClassifier\n",
    "    classifier = NaiveBayesClassifier.train(trainfeats)\n",
    "\n",
    "    # Test the trained classifier and display the most informative features.\n",
    "    print ('accuracy:', nltk.classify.util.accuracy(classifier, testfeats))\n",
    "    classifier.show_most_informative_features()\n",
    "    \n",
    "    return classifier"
   ]
  },
  {
   "cell_type": "code",
   "execution_count": 513,
   "metadata": {},
   "outputs": [
    {
     "ename": "KeyError",
     "evalue": "\"['sentiment'] not in index\"",
     "output_type": "error",
     "traceback": [
      "\u001b[1;31m---------------------------------------------------------------------------\u001b[0m",
      "\u001b[1;31mKeyError\u001b[0m                                  Traceback (most recent call last)",
      "\u001b[1;32m<ipython-input-513-57211476ca31>\u001b[0m in \u001b[0;36m<module>\u001b[1;34m\u001b[0m\n\u001b[1;32m----> 1\u001b[1;33m \u001b[0mclassifier\u001b[0m \u001b[1;33m=\u001b[0m \u001b[0mclassifier_training\u001b[0m\u001b[1;33m(\u001b[0m\u001b[1;34m'sentiment_2.csv'\u001b[0m\u001b[1;33m)\u001b[0m\u001b[1;33m\u001b[0m\u001b[1;33m\u001b[0m\u001b[0m\n\u001b[0m",
      "\u001b[1;32m<ipython-input-60-815efd57d73a>\u001b[0m in \u001b[0;36mclassifier_training\u001b[1;34m(file)\u001b[0m\n\u001b[0;32m      1\u001b[0m \u001b[1;32mdef\u001b[0m \u001b[0mclassifier_training\u001b[0m\u001b[1;33m(\u001b[0m\u001b[0mfile\u001b[0m\u001b[1;33m)\u001b[0m\u001b[1;33m:\u001b[0m\u001b[1;33m\u001b[0m\u001b[1;33m\u001b[0m\u001b[0m\n\u001b[1;32m----> 2\u001b[1;33m     \u001b[0msentiment_training\u001b[0m \u001b[1;33m=\u001b[0m \u001b[0mpd\u001b[0m\u001b[1;33m.\u001b[0m\u001b[0mread_csv\u001b[0m\u001b[1;33m(\u001b[0m\u001b[0mfile\u001b[0m\u001b[1;33m)\u001b[0m\u001b[1;33m[\u001b[0m\u001b[1;33m[\u001b[0m\u001b[1;34m'sentiment'\u001b[0m\u001b[1;33m,\u001b[0m \u001b[1;34m'text'\u001b[0m\u001b[1;33m]\u001b[0m\u001b[1;33m]\u001b[0m\u001b[1;33m\u001b[0m\u001b[1;33m\u001b[0m\u001b[0m\n\u001b[0m\u001b[0;32m      3\u001b[0m     \u001b[0msent_pos\u001b[0m \u001b[1;33m=\u001b[0m \u001b[0msentiment_training\u001b[0m\u001b[1;33m[\u001b[0m\u001b[0msentiment_training\u001b[0m\u001b[1;33m[\u001b[0m\u001b[1;34m'sentiment'\u001b[0m\u001b[1;33m]\u001b[0m \u001b[1;33m==\u001b[0m \u001b[1;36m4\u001b[0m\u001b[1;33m]\u001b[0m\u001b[1;33m[\u001b[0m\u001b[1;34m'text'\u001b[0m\u001b[1;33m]\u001b[0m\u001b[1;33m\u001b[0m\u001b[1;33m\u001b[0m\u001b[0m\n\u001b[0;32m      4\u001b[0m     \u001b[0msent_neg\u001b[0m \u001b[1;33m=\u001b[0m \u001b[0msentiment_training\u001b[0m\u001b[1;33m[\u001b[0m\u001b[0msentiment_training\u001b[0m\u001b[1;33m[\u001b[0m\u001b[1;34m'sentiment'\u001b[0m\u001b[1;33m]\u001b[0m \u001b[1;33m==\u001b[0m \u001b[1;36m0\u001b[0m\u001b[1;33m]\u001b[0m\u001b[1;33m[\u001b[0m\u001b[1;34m'text'\u001b[0m\u001b[1;33m]\u001b[0m\u001b[1;33m\u001b[0m\u001b[1;33m\u001b[0m\u001b[0m\n\u001b[0;32m      5\u001b[0m     \u001b[0msent_pos_clean\u001b[0m \u001b[1;33m=\u001b[0m \u001b[0mlist\u001b[0m\u001b[1;33m(\u001b[0m\u001b[0msent_pos\u001b[0m\u001b[1;33m.\u001b[0m\u001b[0mapply\u001b[0m\u001b[1;33m(\u001b[0m\u001b[0mtweet_cleaner_updated\u001b[0m\u001b[1;33m)\u001b[0m\u001b[1;33m)\u001b[0m\u001b[1;33m\u001b[0m\u001b[1;33m\u001b[0m\u001b[0m\n",
      "\u001b[1;32m~\\Anaconda3\\lib\\site-packages\\pandas\\core\\frame.py\u001b[0m in \u001b[0;36m__getitem__\u001b[1;34m(self, key)\u001b[0m\n\u001b[0;32m   2932\u001b[0m                 \u001b[0mkey\u001b[0m \u001b[1;33m=\u001b[0m \u001b[0mlist\u001b[0m\u001b[1;33m(\u001b[0m\u001b[0mkey\u001b[0m\u001b[1;33m)\u001b[0m\u001b[1;33m\u001b[0m\u001b[1;33m\u001b[0m\u001b[0m\n\u001b[0;32m   2933\u001b[0m             indexer = self.loc._convert_to_indexer(key, axis=1,\n\u001b[1;32m-> 2934\u001b[1;33m                                                    raise_missing=True)\n\u001b[0m\u001b[0;32m   2935\u001b[0m \u001b[1;33m\u001b[0m\u001b[0m\n\u001b[0;32m   2936\u001b[0m         \u001b[1;31m# take() does not accept boolean indexers\u001b[0m\u001b[1;33m\u001b[0m\u001b[1;33m\u001b[0m\u001b[1;33m\u001b[0m\u001b[0m\n",
      "\u001b[1;32m~\\Anaconda3\\lib\\site-packages\\pandas\\core\\indexing.py\u001b[0m in \u001b[0;36m_convert_to_indexer\u001b[1;34m(self, obj, axis, is_setter, raise_missing)\u001b[0m\n\u001b[0;32m   1352\u001b[0m                 kwargs = {'raise_missing': True if is_setter else\n\u001b[0;32m   1353\u001b[0m                           raise_missing}\n\u001b[1;32m-> 1354\u001b[1;33m                 \u001b[1;32mreturn\u001b[0m \u001b[0mself\u001b[0m\u001b[1;33m.\u001b[0m\u001b[0m_get_listlike_indexer\u001b[0m\u001b[1;33m(\u001b[0m\u001b[0mobj\u001b[0m\u001b[1;33m,\u001b[0m \u001b[0maxis\u001b[0m\u001b[1;33m,\u001b[0m \u001b[1;33m**\u001b[0m\u001b[0mkwargs\u001b[0m\u001b[1;33m)\u001b[0m\u001b[1;33m[\u001b[0m\u001b[1;36m1\u001b[0m\u001b[1;33m]\u001b[0m\u001b[1;33m\u001b[0m\u001b[1;33m\u001b[0m\u001b[0m\n\u001b[0m\u001b[0;32m   1355\u001b[0m         \u001b[1;32melse\u001b[0m\u001b[1;33m:\u001b[0m\u001b[1;33m\u001b[0m\u001b[1;33m\u001b[0m\u001b[0m\n\u001b[0;32m   1356\u001b[0m             \u001b[1;32mtry\u001b[0m\u001b[1;33m:\u001b[0m\u001b[1;33m\u001b[0m\u001b[1;33m\u001b[0m\u001b[0m\n",
      "\u001b[1;32m~\\Anaconda3\\lib\\site-packages\\pandas\\core\\indexing.py\u001b[0m in \u001b[0;36m_get_listlike_indexer\u001b[1;34m(self, key, axis, raise_missing)\u001b[0m\n\u001b[0;32m   1159\u001b[0m         self._validate_read_indexer(keyarr, indexer,\n\u001b[0;32m   1160\u001b[0m                                     \u001b[0mo\u001b[0m\u001b[1;33m.\u001b[0m\u001b[0m_get_axis_number\u001b[0m\u001b[1;33m(\u001b[0m\u001b[0maxis\u001b[0m\u001b[1;33m)\u001b[0m\u001b[1;33m,\u001b[0m\u001b[1;33m\u001b[0m\u001b[1;33m\u001b[0m\u001b[0m\n\u001b[1;32m-> 1161\u001b[1;33m                                     raise_missing=raise_missing)\n\u001b[0m\u001b[0;32m   1162\u001b[0m         \u001b[1;32mreturn\u001b[0m \u001b[0mkeyarr\u001b[0m\u001b[1;33m,\u001b[0m \u001b[0mindexer\u001b[0m\u001b[1;33m\u001b[0m\u001b[1;33m\u001b[0m\u001b[0m\n\u001b[0;32m   1163\u001b[0m \u001b[1;33m\u001b[0m\u001b[0m\n",
      "\u001b[1;32m~\\Anaconda3\\lib\\site-packages\\pandas\\core\\indexing.py\u001b[0m in \u001b[0;36m_validate_read_indexer\u001b[1;34m(self, key, indexer, axis, raise_missing)\u001b[0m\n\u001b[0;32m   1250\u001b[0m             \u001b[1;32mif\u001b[0m \u001b[1;32mnot\u001b[0m\u001b[1;33m(\u001b[0m\u001b[0mself\u001b[0m\u001b[1;33m.\u001b[0m\u001b[0mname\u001b[0m \u001b[1;33m==\u001b[0m \u001b[1;34m'loc'\u001b[0m \u001b[1;32mand\u001b[0m \u001b[1;32mnot\u001b[0m \u001b[0mraise_missing\u001b[0m\u001b[1;33m)\u001b[0m\u001b[1;33m:\u001b[0m\u001b[1;33m\u001b[0m\u001b[1;33m\u001b[0m\u001b[0m\n\u001b[0;32m   1251\u001b[0m                 \u001b[0mnot_found\u001b[0m \u001b[1;33m=\u001b[0m \u001b[0mlist\u001b[0m\u001b[1;33m(\u001b[0m\u001b[0mset\u001b[0m\u001b[1;33m(\u001b[0m\u001b[0mkey\u001b[0m\u001b[1;33m)\u001b[0m \u001b[1;33m-\u001b[0m \u001b[0mset\u001b[0m\u001b[1;33m(\u001b[0m\u001b[0max\u001b[0m\u001b[1;33m)\u001b[0m\u001b[1;33m)\u001b[0m\u001b[1;33m\u001b[0m\u001b[1;33m\u001b[0m\u001b[0m\n\u001b[1;32m-> 1252\u001b[1;33m                 \u001b[1;32mraise\u001b[0m \u001b[0mKeyError\u001b[0m\u001b[1;33m(\u001b[0m\u001b[1;34m\"{} not in index\"\u001b[0m\u001b[1;33m.\u001b[0m\u001b[0mformat\u001b[0m\u001b[1;33m(\u001b[0m\u001b[0mnot_found\u001b[0m\u001b[1;33m)\u001b[0m\u001b[1;33m)\u001b[0m\u001b[1;33m\u001b[0m\u001b[1;33m\u001b[0m\u001b[0m\n\u001b[0m\u001b[0;32m   1253\u001b[0m \u001b[1;33m\u001b[0m\u001b[0m\n\u001b[0;32m   1254\u001b[0m             \u001b[1;31m# we skip the warning on Categorical/Interval\u001b[0m\u001b[1;33m\u001b[0m\u001b[1;33m\u001b[0m\u001b[1;33m\u001b[0m\u001b[0m\n",
      "\u001b[1;31mKeyError\u001b[0m: \"['sentiment'] not in index\""
     ]
    }
   ],
   "source": [
    "classifier = classifier_training('sentiment_2.csv')"
   ]
  },
  {
   "cell_type": "markdown",
   "metadata": {},
   "source": [
    "The model is able to train a model based on the airline data with an accuracy of nearly 0.9. This is promising, but doesn't provide any garanties for other types of data"
   ]
  },
  {
   "cell_type": "markdown",
   "metadata": {},
   "source": [
    "### Model on US Election data\n",
    "The next step is to use the newly trained classifier on the actual dataset. As a first step, the whole dataset is split into tweets mentioning Hillary, Trump or both."
   ]
  },
  {
   "cell_type": "code",
   "execution_count": 444,
   "metadata": {},
   "outputs": [],
   "source": [
    "# Function returns dict with tweets from file: \"fileName\".\n",
    "def loadTweets(fileName = 'geotagged_tweets_20160812-0912.jsons', length = 9999999):\n",
    "    counter = 0\n",
    "    tweets_dict = {}\n",
    "    with open('geotagged_tweets_20160812-0912.jsons') as fd:\n",
    "        for line in tqdm_notebook(fd):\n",
    "            j_content = json.loads(line)\n",
    "            text = j_content['text']\n",
    "            try:\n",
    "                country = j_content['place']['country_code']\n",
    "                location = j_content['place']['full_name']\n",
    "            except:\n",
    "                pass\n",
    "            timestamp = j_content['created_at']\n",
    "            tweets_dict[counter] = [timestamp, location, country, text]\n",
    "            counter += 1\n",
    "            if counter == length: # to keep it  small\n",
    "                break\n",
    "    return pd.DataFrame.from_dict(tweets_dict, orient='index').rename(columns={0:'timestamp', 1:'location', 2:'country', 3: 'text'})\n",
    "\n",
    "def tweets_to_candidates(df):\n",
    "    \"\"\"\n",
    "    This function takes a dataframe of tweets as input.\n",
    "    It select entries that react to either Trump, Hillary or both.\n",
    "    It then places the tweet text of the  entries in the corresponding dictionary.\n",
    "    This is the tweet text as a list entry with the tweeters state as key.\n",
    "    The output is a dict with 3 dicts (both, trump, hillary) with all states as keys and the tweets from that state as valeus.\n",
    "\n",
    "    \"\"\"\n",
    "    both_df = pd.DataFrame(columns=df.columns)\n",
    "    trump_df = pd.DataFrame(columns=df.columns)\n",
    "    hillary_df = pd.DataFrame(columns=df.columns)\n",
    "    df['text'] = df['text'].apply(tweet_cleaner_updated_selection)\n",
    "    for i in tqdm_notebook(range(df.shape[0])):\n",
    "        if df.iloc[i]['country'] == 'US':\n",
    "            if any(s in df['text'].iloc[i] for s in ['realdonaldtrump', 'trump', 'donald', 'donaldtrump'])\\\n",
    "            and any(s in df['text'].iloc[i] for s in['hillaryclinton','hillary','clinton']):\n",
    "                both_df = both_df.append(df.iloc[i], ignore_index=True)\n",
    "            elif any(s in df['text'].iloc[i] for s in ['realdonaldtrump', 'trump', 'donald', 'donaldtrump']):\n",
    "                trump_df = trump_df.append(df.iloc[i], ignore_index=True)\n",
    "            elif any(s in df['text'].iloc[i] for s in['hillaryclinton','hillary','clinton']):\n",
    "                hillary_df = hillary_df.append(df.iloc[i], ignore_index=True)\n",
    "            else:\n",
    "#                 print(df.iloc[i]['text'])\n",
    "                pass\n",
    "    return both_df, trump_df, hillary_df\n",
    "\n",
    "def score_per_selection(df):\n",
    "    \"\"\"\n",
    "    Function that gives a score of the sentiment of a selection of tweets\n",
    "    Positive scores are indicators of postive sentiment, and negative scores for negative sentiment.\n",
    "    The returned score is the average score, so total sentiment/#tweets\n",
    "    \"\"\"\n",
    "    tweets_lst = list(df['text'])\n",
    "    test_features = [word_feats(tweet) for tweet in tweets_lst]\n",
    "    score = 0\n",
    "    for tweet in test_features:\n",
    "        if classifier.classify(tweet) =='pos':\n",
    "            score += 1 # since most neutral tweets are considered negative\n",
    "        else:\n",
    "            score -= 1\n",
    "    return score/df.shape[0]\n",
    "\n",
    "def location_to_state_abb(location):\n",
    "    abbreviation = location[-2:]\n",
    "    if abbreviation == 'SA':\n",
    "        try:\n",
    "            abbreviation = transform_dict[location]\n",
    "        except:\n",
    "            pass\n",
    "    return abbreviation\n",
    "            \n",
    "transform_dict = {'New York, USA': 'NY', 'New Jersey, USA': 'NJ', 'Pennsylvania, USA': 'PA', 'Georgia, USA': 'GA','Iowa, USA': 'IA', 'Virginia, USA': 'VA', 'Missouri, USA':'MO', 'Alabama, USA': 'AL','North Carolina, USA': 'NC', 'Illinois, USA': 'IL', 'Texas, USA': 'TX', 'Florida, USA': 'FL','Maryland, USA': 'MD', 'Kentucky, USA': 'KY', 'Arkansas, USA': 'AR', 'Alaska, USA': 'AK', 'Kansas, USA': 'KS', 'South Carolina, USA': 'SC', 'Louisiana, USA': 'LA', 'Maine, USA': 'ME', 'Michigan, USA': 'MI', 'Wisconsin, USA': 'WI', 'Delaware, USA': 'DE', 'Arizona, USA': 'AZ', 'Mississippi, USA': 'MS', 'Indiana, USA': 'IN', 'Ohio, USA': 'OH'}\n",
    "\n",
    "def candidates_to_states(df, transformation_dict = transform_dict):\n",
    "    \"\"\"\n",
    "    transforms a dataframe to a dictionary of dataframes with the state abbrevation being the key and a dataframe\n",
    "    of tweets from that state as value.\n",
    "    \"\"\"\n",
    "    df['state_abb'] = df['location'].apply(location_to_state_abb)\n",
    "    states_dict = {}\n",
    "    for state in df['state_abb'].unique():\n",
    "        states_dict[state] = df[df['state_abb'] == state]\n",
    "    return states_dict\n",
    "\n",
    "def score_per_state(dict_with_dfs):\n",
    "    score_dict = {}\n",
    "    for key, values in dict_with_dfs.items():\n",
    "        score_dict[key] = score_per_selection(dict_with_dfs[key])\n",
    "    return score_dict"
   ]
  },
  {
   "cell_type": "code",
   "execution_count": 445,
   "metadata": {
    "scrolled": true
   },
   "outputs": [
    {
     "data": {
      "application/vnd.jupyter.widget-view+json": {
       "model_id": "88cc46dbe6b242ed94d154af5e5271b4",
       "version_major": 2,
       "version_minor": 0
      },
      "text/plain": [
       "HBox(children=(IntProgress(value=1, bar_style='info', max=1), HTML(value='')))"
      ]
     },
     "metadata": {},
     "output_type": "display_data"
    },
    {
     "name": "stderr",
     "output_type": "stream",
     "text": [
      "C:\\Users\\Corne\\Anaconda3\\lib\\site-packages\\bs4\\__init__.py:335: UserWarning: \"https://t.co/abmHfDq5ut\n",
      "\n",
      "@realDonaldTrump\" looks like a URL. Beautiful Soup is not an HTTP client. You should probably use an HTTP client like requests to get the document behind the URL, and feed that document to Beautiful Soup.\n",
      "  ' that document to Beautiful Soup.' % decoded_markup\n",
      "C:\\Users\\Corne\\Anaconda3\\lib\\site-packages\\bs4\\__init__.py:335: UserWarning: \"https://t.co/ZXAugPjrLj\" looks like a URL. Beautiful Soup is not an HTTP client. You should probably use an HTTP client like requests to get the document behind the URL, and feed that document to Beautiful Soup.\n",
      "  ' that document to Beautiful Soup.' % decoded_markup\n",
      "C:\\Users\\Corne\\Anaconda3\\lib\\site-packages\\bs4\\__init__.py:335: UserWarning: \"https://t.co/vwngsEomAA\n",
      "@realDonaldTrump\" looks like a URL. Beautiful Soup is not an HTTP client. You should probably use an HTTP client like requests to get the document behind the URL, and feed that document to Beautiful Soup.\n",
      "  ' that document to Beautiful Soup.' % decoded_markup\n",
      "C:\\Users\\Corne\\Anaconda3\\lib\\site-packages\\bs4\\__init__.py:335: UserWarning: \"https://t.co/vwngsEomAA\n",
      "#Trump\" looks like a URL. Beautiful Soup is not an HTTP client. You should probably use an HTTP client like requests to get the document behind the URL, and feed that document to Beautiful Soup.\n",
      "  ' that document to Beautiful Soup.' % decoded_markup\n",
      "C:\\Users\\Corne\\Anaconda3\\lib\\site-packages\\bs4\\__init__.py:335: UserWarning: \"https://t.co/f3kdAWI6SA\" looks like a URL. Beautiful Soup is not an HTTP client. You should probably use an HTTP client like requests to get the document behind the URL, and feed that document to Beautiful Soup.\n",
      "  ' that document to Beautiful Soup.' % decoded_markup\n",
      "C:\\Users\\Corne\\Anaconda3\\lib\\site-packages\\bs4\\__init__.py:335: UserWarning: \"https://t.co/6uwkVsKMgF\n",
      "\n",
      "@realDonaldTrump\" looks like a URL. Beautiful Soup is not an HTTP client. You should probably use an HTTP client like requests to get the document behind the URL, and feed that document to Beautiful Soup.\n",
      "  ' that document to Beautiful Soup.' % decoded_markup\n",
      "C:\\Users\\Corne\\Anaconda3\\lib\\site-packages\\bs4\\__init__.py:335: UserWarning: \"https://t.co/9kkKWmEndh\n",
      "@RandPaul\" looks like a URL. Beautiful Soup is not an HTTP client. You should probably use an HTTP client like requests to get the document behind the URL, and feed that document to Beautiful Soup.\n",
      "  ' that document to Beautiful Soup.' % decoded_markup\n",
      "C:\\Users\\Corne\\Anaconda3\\lib\\site-packages\\bs4\\__init__.py:335: UserWarning: \"https://t.co/chkoKJwzHa\n",
      "\n",
      "@RandPaul\" looks like a URL. Beautiful Soup is not an HTTP client. You should probably use an HTTP client like requests to get the document behind the URL, and feed that document to Beautiful Soup.\n",
      "  ' that document to Beautiful Soup.' % decoded_markup\n",
      "C:\\Users\\Corne\\Anaconda3\\lib\\site-packages\\bs4\\__init__.py:335: UserWarning: \"https://t.co/F7sdrren7P\" looks like a URL. Beautiful Soup is not an HTTP client. You should probably use an HTTP client like requests to get the document behind the URL, and feed that document to Beautiful Soup.\n",
      "  ' that document to Beautiful Soup.' % decoded_markup\n",
      "C:\\Users\\Corne\\Anaconda3\\lib\\site-packages\\bs4\\__init__.py:335: UserWarning: \"https://t.co/UcVlwtzadq\" looks like a URL. Beautiful Soup is not an HTTP client. You should probably use an HTTP client like requests to get the document behind the URL, and feed that document to Beautiful Soup.\n",
      "  ' that document to Beautiful Soup.' % decoded_markup\n",
      "C:\\Users\\Corne\\Anaconda3\\lib\\site-packages\\bs4\\__init__.py:335: UserWarning: \"https://t.co/AJgslxltKB\n",
      "#ClintonFoundation\n",
      "#HillarysHealth\n",
      "#DNCLeak\n",
      "#DNCLeaks\n",
      "#TrumpPence16\" looks like a URL. Beautiful Soup is not an HTTP client. You should probably use an HTTP client like requests to get the document behind the URL, and feed that document to Beautiful Soup.\n",
      "  ' that document to Beautiful Soup.' % decoded_markup\n"
     ]
    },
    {
     "data": {
      "application/vnd.jupyter.widget-view+json": {
       "model_id": "7e998b1907ef44f5a6b62ed627ed4475",
       "version_major": 2,
       "version_minor": 0
      },
      "text/plain": [
       "HBox(children=(IntProgress(value=0, max=50000), HTML(value='')))"
      ]
     },
     "metadata": {},
     "output_type": "display_data"
    },
    {
     "name": "stdout",
     "output_type": "stream",
     "text": [
      "(4664, 4) (25928, 4) (6870, 4)\n"
     ]
    }
   ],
   "source": [
    "df = loadTweets(length=50000)\n",
    "both, trump, hillary = tweets_to_candidates(df)\n",
    "print(both.shape, trump.shape, hillary.shape)"
   ]
  },
  {
   "cell_type": "markdown",
   "metadata": {},
   "source": [
    "From the data set, it is clearly seen that all data can be classified as being on both candidates or just on Trump. The Hillary df has no entries en the else clause does not print anything."
   ]
  },
  {
   "cell_type": "code",
   "execution_count": 446,
   "metadata": {},
   "outputs": [
    {
     "name": "stdout",
     "output_type": "stream",
     "text": [
      "-0.9000857632933105\n",
      "-0.8672477630361\n",
      "-0.8724890829694323\n"
     ]
    }
   ],
   "source": [
    "print(score_per_selection(both))\n",
    "print(score_per_selection(trump))\n",
    "print(score_per_selection(hillary))"
   ]
  },
  {
   "cell_type": "code",
   "execution_count": 447,
   "metadata": {
    "scrolled": true
   },
   "outputs": [
    {
     "name": "stdout",
     "output_type": "stream",
     "text": [
      "-0.92\n",
      "###########\n",
      "-0.96\n"
     ]
    }
   ],
   "source": [
    "trump_per_state = score_per_state(candidates_to_states(trump))\n",
    "hillary_per_state = score_per_state(candidates_to_states(hillary))\n",
    "both_per_state = score_per_state(candidates_to_states(both))\n",
    "\n",
    "#################### TEST ##################\n",
    "trump_test = candidates_to_states(trump)['NY'].head(50)\n",
    "print(score_per_selection(trump_test))\n",
    "print('###########')\n",
    "hillary_test = candidates_to_states(hillary)['NY'].head(50)\n",
    "print(score_per_selection(hillary_test))"
   ]
  },
  {
   "cell_type": "code",
   "execution_count": 494,
   "metadata": {},
   "outputs": [],
   "source": [
    "import os\n",
    "from shapely.geometry import Polygon, MultiPolygon\n",
    "from descartes import PolygonPatch\n",
    "from matplotlib import cm\n",
    "import math\n",
    "\n",
    "def intensity_creator(dct):\n",
    "    import operator\n",
    "    temp = max(dct.items(), key=operator.itemgetter(1))[0]\n",
    "    return dct[temp]\n",
    "        \n",
    "\n",
    "def create_map(dct, colormap='bwr', diff=False):\n",
    "    S_DIR = 'states_21basic/' \n",
    "    BLUE = '#5599ff'\n",
    "    cmap = plt.get_cmap(colormap) # Choose a colormap to be used to color\n",
    "\n",
    "    with open(os.path.join(S_DIR, 'states.json')) as rf:    \n",
    "        data = json.load(rf)\n",
    "\n",
    "    fig = plt.figure() \n",
    "    ax = fig.gca()\n",
    "    for feature in data['features']:\n",
    "        geometry = feature['geometry']\n",
    "\n",
    "        # Convert population to a proportion of the maximum value\n",
    "        name = feature['properties']['STATE_ABBR']\n",
    "        if diff:\n",
    "            try:\n",
    "                if dct[name] > 0:\n",
    "                    intensity = 0.9999\n",
    "                else:\n",
    "                    intensity = 0\n",
    "            except:\n",
    "                intensity = 9999\n",
    "        elif not diff:\n",
    "            try:\n",
    "                intensity = 1- math.sqrt((dct[name] + 1)/2)\n",
    "            \n",
    "            except:\n",
    "                intensity = 9999\n",
    "\n",
    "        if geometry['type'] == 'Polygon':\n",
    "            poly = geometry\n",
    "            ppatch = PolygonPatch(poly, fc=cmap(intensity), ec='black',  alpha=0.5, zorder=2)\n",
    "            ax.add_patch(ppatch)\n",
    "\n",
    "        elif geometry['type'] == 'MultiPolygon':\n",
    "            for polygon in geometry['coordinates'][0]:\n",
    "                poly = Polygon(polygon)\n",
    "                ppatch = PolygonPatch(poly, fc=cmap(intensity), ec='black', alpha=0.5, zorder=2)\n",
    "                ax.add_patch(ppatch)\n",
    "        else:\n",
    "            print('Don\\'t know how to draw :', geometry['type'])\n",
    "\n",
    "    ax.axis('scaled')\n",
    "    plt.axis('off')\n",
    "    plt.show()"
   ]
  },
  {
   "cell_type": "code",
   "execution_count": 495,
   "metadata": {},
   "outputs": [
    {
     "data": {
      "image/png": "[encoded data removed]",
      "text/plain": [
       "<Figure size 432x288 with 1 Axes>"
      ]
     },
     "metadata": {
      "needs_background": "light"
     },
     "output_type": "display_data"
    },
    {
     "data": {
      "image/png": "[encoded data removed]",
      "text/plain": [
       "<Figure size 432x288 with 1 Axes>"
      ]
     },
     "metadata": {
      "needs_background": "light"
     },
     "output_type": "display_data"
    },
    {
     "data": {
      "image/png": "[encoded data removed]",
      "text/plain": [
       "<Figure size 432x288 with 1 Axes>"
      ]
     },
     "metadata": {
      "needs_background": "light"
     },
     "output_type": "display_data"
    }
   ],
   "source": [
    "create_map(trump_per_state)\n",
    "create_map(hillary_per_state)\n",
    "create_map(both_per_state)"
   ]
  },
  {
   "cell_type": "code",
   "execution_count": 493,
   "metadata": {},
   "outputs": [
    {
     "data": {
      "image/png": "[encoded data removed]",
      "text/plain": [
       "<Figure size 432x288 with 1 Axes>"
      ]
     },
     "metadata": {
      "needs_background": "light"
     },
     "output_type": "display_data"
    }
   ],
   "source": [
    "d3 = {key: trump_per_state[key] - hillary_per_state.get(key, 0) for key in trump_per_state.keys()}\n",
    "create_map(d3, diff=True)"
   ]
  },
  {
   "cell_type": "code",
   "execution_count": 511,
   "metadata": {},
   "outputs": [
    {
     "data": {
      "text/html": [
       "<div>\n",
       "<style scoped>\n",
       "    .dataframe tbody tr th:only-of-type {\n",
       "        vertical-align: middle;\n",
       "    }\n",
       "\n",
       "    .dataframe tbody tr th {\n",
       "        vertical-align: top;\n",
       "    }\n",
       "\n",
       "    .dataframe thead th {\n",
       "        text-align: right;\n",
       "    }\n",
       "</style>\n",
       "<table border=\"1\" class=\"dataframe\">\n",
       "  <thead>\n",
       "    <tr style=\"text-align: right;\">\n",
       "      <th></th>\n",
       "      <th>sentimennt</th>\n",
       "      <th>text</th>\n",
       "    </tr>\n",
       "  </thead>\n",
       "  <tbody>\n",
       "    <tr>\n",
       "      <th>0</th>\n",
       "      <td>0</td>\n",
       "      <td>@switchfoot http://twitpic.com/2y1zl - Awww, t...</td>\n",
       "    </tr>\n",
       "    <tr>\n",
       "      <th>1</th>\n",
       "      <td>0</td>\n",
       "      <td>is upset that he can't update his Facebook by ...</td>\n",
       "    </tr>\n",
       "    <tr>\n",
       "      <th>2</th>\n",
       "      <td>0</td>\n",
       "      <td>@Kenichan I dived many times for the ball. Man...</td>\n",
       "    </tr>\n",
       "    <tr>\n",
       "      <th>3</th>\n",
       "      <td>0</td>\n",
       "      <td>my whole body feels itchy and like its on fire</td>\n",
       "    </tr>\n",
       "    <tr>\n",
       "      <th>4</th>\n",
       "      <td>0</td>\n",
       "      <td>@nationwideclass no, it's not behaving at all....</td>\n",
       "    </tr>\n",
       "  </tbody>\n",
       "</table>\n",
       "</div>"
      ],
      "text/plain": [
       "   sentimennt                                               text\n",
       "0           0  @switchfoot http://twitpic.com/2y1zl - Awww, t...\n",
       "1           0  is upset that he can't update his Facebook by ...\n",
       "2           0  @Kenichan I dived many times for the ball. Man...\n",
       "3           0    my whole body feels itchy and like its on fire \n",
       "4           0  @nationwideclass no, it's not behaving at all...."
      ]
     },
     "execution_count": 511,
     "metadata": {},
     "output_type": "execute_result"
    }
   ],
   "source": [
    "df_test_data=pd.read_csv('training.1600000.processed.noemoticon.csv', encoding=\"ISO-8859-1\", header=None)[[0,5]].rename(columns={0:'sentimennt', 5:'text'})\n",
    "df_test_data.to_csv(path_or_buf='sentiment_2.csv', index=False)\n",
    "df_test_data.head()"
   ]
  },
  {
   "cell_type": "code",
   "execution_count": null,
   "metadata": {},
   "outputs": [],
   "source": []
  }
 ],
 "metadata": {
  "kernelspec": {
   "display_name": "Python 3",
   "language": "python",
   "name": "python3"
  },
  "language_info": {
   "codemirror_mode": {
    "name": "ipython",
    "version": 3
   },
   "file_extension": ".py",
   "mimetype": "text/x-python",
   "name": "python",
   "nbconvert_exporter": "python",
   "pygments_lexer": "ipython3",
   "version": "3.7.3"
  }
 },
 "nbformat": 4,
 "nbformat_minor": 2
}
